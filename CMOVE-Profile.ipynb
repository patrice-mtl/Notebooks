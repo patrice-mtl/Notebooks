{
 "metadata": {
  "name": "CMOVE-Profile"
 },
 "nbformat": 3,
 "nbformat_minor": 0,
 "worksheets": [
  {
   "cells": [
    {
     "cell_type": "heading",
     "level": 3,
     "metadata": {},
     "source": [
      "DICOM Prefetch - C-MOVE Profile"
     ]
    },
    {
     "cell_type": "heading",
     "level": 4,
     "metadata": {},
     "source": [
      "0. Set up Global Variables"
     ]
    },
    {
     "cell_type": "code",
     "collapsed": false,
     "input": [
      "#!/usr/bin/python\n",
      "import os\n",
      "import gzip\n",
      "import re\n",
      "import pandas as pd\n",
      "import numpy as np\n",
      "filed_logs_path = \"/home/popere/Projects/DICOMPrefetch/logs/filed_logs/\"\n",
      "path = \"/home/popere/Projects/DICOMPrefetch/logs/\""
     ],
     "language": "python",
     "metadata": {},
     "outputs": [],
     "prompt_number": 138
    },
    {
     "cell_type": "heading",
     "level": 4,
     "metadata": {},
     "source": [
      "1. Mapper - Read log files, and return them as a single object"
     ]
    },
    {
     "cell_type": "code",
     "collapsed": false,
     "input": [
      "def generateMasterFile(historicalProfile):\n",
      "    CleanedFile = []\n",
      "    dirList=os.listdir(path)\n",
      "    filedDirList=os.listdir(filed_logs_path)\n",
      "    for file in dirList:\n",
      "        AeTitleList = []\n",
      "        file = path + file\n",
      "        if os.path.isfile(file):\n",
      "            f = open(file)\n",
      "            file_content = f.read() #read returns entire file as a string\n",
      "            file_content = file_content.strip()\n",
      "            file_content = file_content.split('\\n')\n",
      "            f.close()\n",
      "            for i in file_content:\n",
      "                CleanedFile.append(i)\n",
      "    for file in filedDirList:\n",
      "        if not historicalProfile:\n",
      "            continue\n",
      "        file = filed_logs_path + file\n",
      "        f = gzip.open(file, 'rb')\n",
      "        file_content = f.read() #read returns entire file as a string\n",
      "        file_content = file_content.strip()\n",
      "        file_content = file_content.split('\\n')\n",
      "        f.close()\n",
      "        for i in file_content:\n",
      "            CleanedFile.append(i)\n",
      "    return CleanedFile "
     ],
     "language": "python",
     "metadata": {},
     "outputs": [],
     "prompt_number": 139
    },
    {
     "cell_type": "heading",
     "level": 4,
     "metadata": {},
     "source": [
      "2 - Shuffle and Sort - (Flatten the Cleaned File)"
     ]
    },
    {
     "cell_type": "code",
     "collapsed": false,
     "input": [
      "def extractEvents(CleanedFile):\n",
      "    Result = {}\n",
      "    timestamp = []\n",
      "    application = []\n",
      "    host = []\n",
      "    sourceAE = []\n",
      "    port = []\n",
      "    destAE = []\n",
      "    success = []\n",
      "    failure = []\n",
      "    lines = CleanedFile\n",
      "    for i in range(len(lines)):\n",
      "        if 'Step 6b' in lines[i]:\n",
      "            #m = re.match(\"\\[(.{23}) ([^ ]*) ([^ ]*) [^ ]* [^ ]* (.*)\", logline)\n",
      "            m = re.match(\"\\[(.{23}) ([^ ]*) ([^ ]*) [^ ]* [^ ]* [^ ]* Step 6b: Issuing DICOM C-Move request to AE:(.*)  Port:(.*)\\.  Destination for study is:(.*)\\.\", lines[i])\n",
      "            Timestamp = m.group(1)\n",
      "            Application = m.group(2)\n",
      "            Host = m.group(3)\n",
      "            SourceAE = m.group(4)\n",
      "            Port = m.group(5)\n",
      "            DestAE = m.group(6)\n",
      "            #print \"%s,%s,%s,%s,%s,%s\"%(Timestamp,Application,Host,SourceAE,Port,DestAE)\n",
      "            j = i + 1\n",
      "            #print \"%s,%s,%s,%s,%s,%s\"%(Timestamp,Application,Host,SourceAE,Port,DestAE)\n",
      "            for line in lines[j:]:\n",
      "                Success = 0\n",
      "                Failure = 0\n",
      "                if 'Step 6b' in line:\n",
      "                    break\n",
      "                elif 'Response indicates' in line:\n",
      "                    Success  = 1\n",
      "                    Failure = 0\n",
      "                    str =  \"%s,%s,%s,%s,%s,%s,%s,%s\"%(Timestamp,Application,Host,SourceAE,Port,DestAE,Success,Failure)\n",
      "                    timestamp.append(Timestamp)\n",
      "                    application.append(Application)\n",
      "                    host.append(Host)\n",
      "                    sourceAE.append(SourceAE)\n",
      "                    port.append(Port)\n",
      "                    destAE.append(DestAE)\n",
      "                    success.append(Success)\n",
      "                    failure.append(Failure)\n",
      "                    break\n",
      "                elif 'c-move request FAILED' in line:\n",
      "                    Success = 0\n",
      "                    Failure = 1\n",
      "                    str = \"%s,%s,%s,%s,%s,%s,%s,%s\"%(Timestamp,Application,Host,SourceAE,Port,DestAE,Success,Failure)\n",
      "                    timestamp.append(Timestamp)\n",
      "                    application.append(Application)\n",
      "                    host.append(Host)\n",
      "                    sourceAE.append(SourceAE)\n",
      "                    port.append(Port)\n",
      "                    destAE.append(DestAE)\n",
      "                    success.append(Success)\n",
      "                    failure.append(Failure)#Result.append(str)\n",
      "                    #print str\n",
      "                    break\n",
      "    Result['Timestamp'] = timestamp\n",
      "    Result['Application'] = application\n",
      "    Result['Host'] = host\n",
      "    Result['SourceAE'] = sourceAE\n",
      "    Result['Port'] = port\n",
      "    Result['DestAE'] = destAE\n",
      "    Result['Success'] = success\n",
      "    Result['Failure'] = failure\n",
      "    return Result\n"
     ],
     "language": "python",
     "metadata": {},
     "outputs": [],
     "prompt_number": 140
    },
    {
     "cell_type": "heading",
     "level": 4,
     "metadata": {},
     "source": [
      "3 - Reduce - Run Statistics"
     ]
    },
    {
     "cell_type": "code",
     "collapsed": false,
     "input": [
      "def generateStats(Events):\n",
      "    events = Events\n",
      "    infile = pd.DataFrame(events)\n",
      "    Date = infile['Timestamp']\n",
      "    Date = Date.str.split().str[0]\n",
      "    Timestamp = pd.DatetimeIndex(infile['Timestamp'])\n",
      "    Hour = Timestamp.hour\n",
      "    DailyActivity = infile[['Host','SourceAE','Success','Failure']]\n",
      "    DailyActivity['Date'] = Date\n",
      "    DailyReport = DailyActivity.groupby(['Date','Host','SourceAE']).agg([np.sum,np.mean,np.size])\n",
      "    DailyReport.columns = ['Successes','SuccessRate','Total','Failures','FailureRate','Total2']\n",
      "    cols = ['Total','Successes','Failures','SuccessRate','FailureRate']\n",
      "    DailyReport = DailyReport[cols]\n",
      "    DailyReport['SuccessRate'] = DailyReport['SuccessRate'].map(lambda x: '%0.3f' % x)\n",
      "    DailyReport['FailureRate'] = DailyReport['FailureRate'].map(lambda x: '%0.3f' % x)\n",
      "    return DailyReport"
     ],
     "language": "python",
     "metadata": {},
     "outputs": [],
     "prompt_number": 147
    },
    {
     "cell_type": "code",
     "collapsed": false,
     "input": [
      "def main():\n",
      "        cleanedFile = generateMasterFile(True)\n",
      "        events = extractEvents(cleanedFile)\n",
      "        Report = generateStats(events)\n",
      "        Report.to_csv('/home/popere/cmoves-report.csv',header=True)"
     ],
     "language": "python",
     "metadata": {},
     "outputs": [],
     "prompt_number": 144
    },
    {
     "cell_type": "code",
     "collapsed": false,
     "input": [
      "main()"
     ],
     "language": "python",
     "metadata": {},
     "outputs": [],
     "prompt_number": 145
    },
    {
     "cell_type": "code",
     "collapsed": false,
     "input": [],
     "language": "python",
     "metadata": {},
     "outputs": [],
     "prompt_number": 143
    }
   ],
   "metadata": {}
  }
 ]
}