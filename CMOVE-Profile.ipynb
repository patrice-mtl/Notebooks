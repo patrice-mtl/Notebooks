{
 "metadata": {
  "name": "CMOVE-Profile"
 },
 "nbformat": 3,
 "nbformat_minor": 0,
 "worksheets": [
  {
   "cells": [
    {
     "cell_type": "heading",
     "level": 3,
     "metadata": {},
     "source": [
      "DICOM Prefetch - C-MOVE Profile"
     ]
    },
    {
     "cell_type": "heading",
     "level": 4,
     "metadata": {},
     "source": [
      "1. Mapper - Read log data, Discard Uninteresting Lines"
     ]
    },
    {
     "cell_type": "code",
     "collapsed": false,
     "input": [
      "#!/usr/bin/python\n",
      "import os\n",
      "import gzip\n",
      "filed_logs_path = \"/home/popere/Projects/DICOMPrefetch/logs/filed_logs\"\n",
      "path = \"/var/log/PACS/DICOMPrefetch/\""
     ],
     "language": "python",
     "metadata": {},
     "outputs": [],
     "prompt_number": 9
    },
    {
     "cell_type": "code",
     "collapsed": false,
     "input": [
      "def generateMasterFile(historicalProfile):\n",
      "    CombinedFile = []\n",
      "    dirList=os.listdir(path)\n",
      "    filedDirList=os.listdir(filed_logs_path)\n",
      "    for file in dirList:\n",
      "        AeTitleList = []\n",
      "        file = path + file\n",
      "        if os.path.isfile(file):\n",
      "            f = open(file)\n",
      "            file_content = f.read() #read returns entire file as a string\n",
      "            file_content = file_content.strip()\n",
      "            file_content = file_content.split('\\n')\n",
      "            f.close()\n",
      "            for i in file_content:\n",
      "                CombinedFile.append(i)\n",
      "            print len(file_content)\n",
      "            print len(CombinedFile)\n",
      "    for file in filedDirList:\n",
      "        if not historicalProfile:\n",
      "            continue\n",
      "        file = filed_logs_path + file\n",
      "        f = gzip.open(file, 'rb')\n",
      "        file_content = f.read() #read returns entire file as a string\n",
      "        file_content = file_content.strip()\n",
      "        file_content = file_content.split('\\n')\n",
      "        f.close()\n",
      "        for i in file_content:\n",
      "            CombinedFile.append(i)\n",
      "        print len(file_content)\n",
      "        print len(CombinedFile)\n",
      "    result = (CombinedFile)\n",
      "    return result "
     ],
     "language": "python",
     "metadata": {},
     "outputs": [],
     "prompt_number": 10
    },
    {
     "cell_type": "code",
     "collapsed": false,
     "input": [
      "generateMasterFile(False)"
     ],
     "language": "python",
     "metadata": {},
     "outputs": [
      {
       "ename": "OSError",
       "evalue": "[Errno 2] No such file or directory: '/var/log/PACS/DICOMPrefetch/'",
       "output_type": "pyerr",
       "traceback": [
        "\u001b[1;31m---------------------------------------------------------------------------\u001b[0m\n\u001b[1;31mOSError\u001b[0m                                   Traceback (most recent call last)",
        "\u001b[1;32m<ipython-input-8-344ef9b55b03>\u001b[0m in \u001b[0;36m<module>\u001b[1;34m()\u001b[0m\n\u001b[1;32m----> 1\u001b[1;33m \u001b[0mgenerateMasterFile\u001b[0m\u001b[1;33m(\u001b[0m\u001b[0mFalse\u001b[0m\u001b[1;33m)\u001b[0m\u001b[1;33m\u001b[0m\u001b[0m\n\u001b[0m",
        "\u001b[1;32m<ipython-input-7-c4533a3beda6>\u001b[0m in \u001b[0;36mgenerateMasterFile\u001b[1;34m(historicalProfile)\u001b[0m\n\u001b[0;32m      1\u001b[0m \u001b[1;32mdef\u001b[0m \u001b[0mgenerateMasterFile\u001b[0m\u001b[1;33m(\u001b[0m\u001b[0mhistoricalProfile\u001b[0m\u001b[1;33m)\u001b[0m\u001b[1;33m:\u001b[0m\u001b[1;33m\u001b[0m\u001b[0m\n\u001b[0;32m      2\u001b[0m     \u001b[0mCombinedFile\u001b[0m \u001b[1;33m=\u001b[0m \u001b[1;33m[\u001b[0m\u001b[1;33m]\u001b[0m\u001b[1;33m\u001b[0m\u001b[0m\n\u001b[1;32m----> 3\u001b[1;33m     \u001b[0mdirList\u001b[0m\u001b[1;33m=\u001b[0m\u001b[0mos\u001b[0m\u001b[1;33m.\u001b[0m\u001b[0mlistdir\u001b[0m\u001b[1;33m(\u001b[0m\u001b[0mpath\u001b[0m\u001b[1;33m)\u001b[0m\u001b[1;33m\u001b[0m\u001b[0m\n\u001b[0m\u001b[0;32m      4\u001b[0m     \u001b[0mfiledDirList\u001b[0m\u001b[1;33m=\u001b[0m\u001b[0mos\u001b[0m\u001b[1;33m.\u001b[0m\u001b[0mlistdir\u001b[0m\u001b[1;33m(\u001b[0m\u001b[0mfiled_logs_path\u001b[0m\u001b[1;33m)\u001b[0m\u001b[1;33m\u001b[0m\u001b[0m\n\u001b[0;32m      5\u001b[0m     \u001b[1;32mfor\u001b[0m \u001b[0mfile\u001b[0m \u001b[1;32min\u001b[0m \u001b[0mdirList\u001b[0m\u001b[1;33m:\u001b[0m\u001b[1;33m\u001b[0m\u001b[0m\n",
        "\u001b[1;31mOSError\u001b[0m: [Errno 2] No such file or directory: '/var/log/PACS/DICOMPrefetch/'"
       ]
      }
     ],
     "prompt_number": 8
    },
    {
     "cell_type": "code",
     "collapsed": false,
     "input": [],
     "language": "python",
     "metadata": {},
     "outputs": []
    }
   ],
   "metadata": {}
  }
 ]
}