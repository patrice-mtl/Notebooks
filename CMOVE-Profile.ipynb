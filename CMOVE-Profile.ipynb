{
 "metadata": {
  "name": "CMOVE-Profile"
 },
 "nbformat": 3,
 "nbformat_minor": 0,
 "worksheets": [
  {
   "cells": [
    {
     "cell_type": "heading",
     "level": 3,
     "metadata": {},
     "source": [
      "DICOM Prefetch - C-MOVE Profile"
     ]
    },
    {
     "cell_type": "heading",
     "level": 4,
     "metadata": {},
     "source": [
      "0. Set up Global Variables"
     ]
    },
    {
     "cell_type": "code",
     "collapsed": false,
     "input": [
      "#!/usr/bin/python\n",
      "import os\n",
      "import gzip\n",
      "import re\n",
      "filed_logs_path = \"/home/popere/Projects/DICOMPrefetch/logs/filed_logs/\"\n",
      "path = \"/home/popere/Projects/DICOMPrefetch/logs/\""
     ],
     "language": "python",
     "metadata": {},
     "outputs": [],
     "prompt_number": 41
    },
    {
     "cell_type": "heading",
     "level": 4,
     "metadata": {},
     "source": [
      "1. Mapper - Read log files, and return them as a single object"
     ]
    },
    {
     "cell_type": "code",
     "collapsed": false,
     "input": [
      "def generateMasterFile(historicalProfile):\n",
      "    CleanedFile = []\n",
      "    dirList=os.listdir(path)\n",
      "    filedDirList=os.listdir(filed_logs_path)\n",
      "    for file in dirList:\n",
      "        AeTitleList = []\n",
      "        file = path + file\n",
      "        if os.path.isfile(file):\n",
      "            f = open(file)\n",
      "            file_content = f.read() #read returns entire file as a string\n",
      "            file_content = file_content.strip()\n",
      "            file_content = file_content.split('\\n')\n",
      "            f.close()\n",
      "            for i in file_content:\n",
      "                CleanedFile.append(i)\n",
      "            print len(file_content)\n",
      "            print len(CleanedFile)\n",
      "    for file in filedDirList:\n",
      "        if not historicalProfile:\n",
      "            continue\n",
      "        file = filed_logs_path + file\n",
      "        f = gzip.open(file, 'rb')\n",
      "        file_content = f.read() #read returns entire file as a string\n",
      "        file_content = file_content.strip()\n",
      "        file_content = file_content.split('\\n')\n",
      "        f.close()\n",
      "        for i in file_content:\n",
      "            CleanedFile.append(i)\n",
      "        print len(file_content)\n",
      "        #print len(CleanedFile)\n",
      "    print len(CleanedFile)\n",
      "    return CleanedFile "
     ],
     "language": "python",
     "metadata": {},
     "outputs": [],
     "prompt_number": 33
    },
    {
     "cell_type": "heading",
     "level": 4,
     "metadata": {},
     "source": [
      "2 - Shuffle and Sort - (Flatten the Cleaned File)"
     ]
    },
    {
     "cell_type": "code",
     "collapsed": false,
     "input": [
      "def extractEvents(CleanedFile):\n",
      "    Result = {}\n",
      "    lines = CleanedFile\n",
      "    for i in range(len(lines)):\n",
      "        if 'Step 6b' in lines[i]:\n",
      "            #m = re.match(\"\\[(.{23}) ([^ ]*) ([^ ]*) [^ ]* [^ ]* (.*)\", logline)\n",
      "            m = re.match(\"\\[(.{23}) ([^ ]*) ([^ ]*) [^ ]* [^ ]* [^ ]* Step 6b: Issuing DICOM C-Move request to AE:(.*)  Port:(.*)\\.  Destination for study is:(.*)\\.\", lines[i])\n",
      "            Timestamp = m.group(1)\n",
      "            Application = m.group(2)\n",
      "            Host = m.group(3)\n",
      "            SourceAE = m.group(4)\n",
      "            Port = m.group(5)\n",
      "            DestAE = m.group(6)\n",
      "            #print \"%s,%s,%s,%s,%s,%s\"%(Timestamp,Application,Host,SourceAE,Port,DestAE)\n",
      "            j = i + 1\n",
      "            #print \"%s,%s,%s,%s,%s,%s\"%(Timestamp,Application,Host,SourceAE,Port,DestAE)\n",
      "            for line in lines[j:]:\n",
      "                Success = 0\n",
      "                Failure = 0\n",
      "                if 'Step 6b' in line:\n",
      "                    break\n",
      "                elif 'Response indicates' in line:\n",
      "                    Success  = 1\n",
      "                    Failure = 0\n",
      "                    str =  \"%s,%s,%s,%s,%s,%s,%s,%s\"%(Timestamp,Application,Host,SourceAE,Port,DestAE,Success,Failure)\n",
      "                    Result.append(str)\n",
      "                    #print str\n",
      "                    break\n",
      "                elif 'c-move request FAILED' in line:\n",
      "                    Success = 0\n",
      "                    Failure = 1\n",
      "                    str = \"%s,%s,%s,%s,%s,%s,%s,%s\"%(Timestamp,Application,Host,SourceAE,Port,DestAE,Success,Failure)\n",
      "                    Result.append(str)\n",
      "                    #print str\n",
      "                    break\n",
      "    print \"Hello\"\n"
     ],
     "language": "python",
     "metadata": {},
     "outputs": [],
     "prompt_number": 49
    },
    {
     "cell_type": "code",
     "collapsed": false,
     "input": [
      "def main():\n",
      "        cleanedFile = generateMasterFile(True)\n",
      "        extractEvents(cleanedFile)"
     ],
     "language": "python",
     "metadata": {},
     "outputs": [],
     "prompt_number": 51
    },
    {
     "cell_type": "code",
     "collapsed": false,
     "input": [
      "main()"
     ],
     "language": "python",
     "metadata": {},
     "outputs": [
      {
       "output_type": "stream",
       "stream": "stdout",
       "text": [
        "54777\n",
        "54777\n",
        "82250"
       ]
      },
      {
       "output_type": "stream",
       "stream": "stdout",
       "text": [
        "\n",
        "83504"
       ]
      },
      {
       "output_type": "stream",
       "stream": "stdout",
       "text": [
        "\n",
        "82048\n",
        "149740"
       ]
      }
     ],
     "prompt_number": "*"
    },
    {
     "cell_type": "code",
     "collapsed": false,
     "input": [],
     "language": "python",
     "metadata": {},
     "outputs": []
    }
   ],
   "metadata": {}
  }
 ]
}